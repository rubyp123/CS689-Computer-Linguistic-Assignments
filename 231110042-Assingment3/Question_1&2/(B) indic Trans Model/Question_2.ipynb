{
 "cells": [
  {
   "cell_type": "markdown",
   "id": "d704693c-fc78-4c4c-ad8c-b28d864c51e6",
   "metadata": {},
   "source": [
    "# Indic-Trans Model"
   ]
  },
  {
   "cell_type": "code",
   "execution_count": 1,
   "id": "2d3d8a2b-43a8-48d0-837c-fdc0c124f6d2",
   "metadata": {},
   "outputs": [],
   "source": [
    "import nltk\n",
    "from nltk.translate.bleu_score import corpus_bleu\n",
    "from rouge import Rouge"
   ]
  },
  {
   "cell_type": "code",
   "execution_count": 2,
   "id": "c90e9653-6aac-49e7-8094-9ab3b861f0e6",
   "metadata": {},
   "outputs": [],
   "source": [
    "\n",
    "def fetch_ground_truth(f1 , f2 , input):\n",
    "    ans = []\n",
    "    # print(len(f1))\n",
    "    # print(len(f2))\n",
    "    for i in range(len(input)):\n",
    "        for j in range(len(f1)):\n",
    "            if(f1[j]==input[i]):\n",
    "                ans.append(f2[j])\n",
    "    return ans\n",
    "          \n",
    "\n",
    "\n",
    "def bleu_score(ground_truth , output):\n",
    "    b_score = 0\n",
    "    b_score = corpus_bleu([[ref] for ref in ground_truth], output)\n",
    "    return b_score\n",
    "   \n",
    "\n",
    "\n",
    "def rouge_score(ground_truth , output):\n",
    "    rouge = Rouge()\n",
    "    scores = rouge.get_scores(ground_truth,output,avg=True)\n",
    "    return scores\n",
    "    \n",
    "    \n",
    "        "
   ]
  },
  {
   "cell_type": "markdown",
   "id": "c507ebed-cb77-4094-a837-581fc018e490",
   "metadata": {},
   "source": [
    "### Hindi to English "
   ]
  },
  {
   "cell_type": "code",
   "execution_count": 3,
   "id": "f0085518-c060-444b-be31-9b0f67b5d8e5",
   "metadata": {},
   "outputs": [],
   "source": [
    "# Open a file named \"example.txt\" in write mode ('w') with UTF-8 encoding\n",
    "with open('B_hin_to_eng_input.txt', 'r', encoding='utf-8') as f:\n",
    "    # Write some text to the file\n",
    "    input = f.readlines()\n",
    "\n",
    "with open('B_hin_to_eng_output.txt', 'r', encoding='utf-8') as f:\n",
    "    # Write some text to the file\n",
    "    output = f.readlines()\n",
    "\n",
    "with open('test.hi', 'r', encoding='utf-8') as f:\n",
    "    # Write some text to the file\n",
    "    f1 = f.readlines()\n",
    "\n",
    "with open('test.en', 'r', encoding='utf-8') as f:\n",
    "    # Write some text to the file\n",
    "    f2 = f.readlines()"
   ]
  },
  {
   "cell_type": "code",
   "execution_count": 4,
   "id": "72f9013a-a230-4ab5-b5c6-92614564cf15",
   "metadata": {},
   "outputs": [],
   "source": [
    "ground_truth = fetch_ground_truth(f1,f2,input)"
   ]
  },
  {
   "cell_type": "code",
   "execution_count": 5,
   "id": "20d5e0b1-283a-4555-8afa-5aff37815d2f",
   "metadata": {},
   "outputs": [],
   "source": [
    "# print(input[100])\n",
    "# print((output[10]))\n",
    "# print((ground_truth[10]))"
   ]
  },
  {
   "cell_type": "code",
   "execution_count": 6,
   "id": "126a13f7-a31c-4f94-adc9-0105eae87d6a",
   "metadata": {},
   "outputs": [
    {
     "name": "stdout",
     "output_type": "stream",
     "text": [
      "Sentence BLEU Score: 0.7509905128899935\n"
     ]
    }
   ],
   "source": [
    "score = bleu_score(ground_truth , output)\n",
    "print(\"Sentence BLEU Score:\", score)"
   ]
  },
  {
   "cell_type": "code",
   "execution_count": 7,
   "id": "d147fa75-99c8-4823-85cc-cb192b276ea8",
   "metadata": {},
   "outputs": [
    {
     "name": "stdout",
     "output_type": "stream",
     "text": [
      "Rouge Score : \n",
      "rouge-1  :  {'r': 0.6792330438991676, 'p': 0.6837362307411765, 'f': 0.6782925579579643}\n",
      "rouge-2  :  {'r': 0.4475947157750621, 'p': 0.4531815130513081, 'f': 0.44787541854447943}\n",
      "rouge-l  :  {'r': 0.6463267876918584, 'p': 0.6508646447333915, 'f': 0.6455910560254102}\n"
     ]
    }
   ],
   "source": [
    "r_score = rouge_score(ground_truth , output)\n",
    "print(\"Rouge Score : \" )\n",
    "for i,j in r_score.items():\n",
    "    print(i,\" : \",j)\n",
    "    "
   ]
  },
  {
   "cell_type": "markdown",
   "id": "15f5ba80-3b41-4cea-b1e5-04ebe101f9c5",
   "metadata": {},
   "source": [
    "### English to Hindi "
   ]
  },
  {
   "cell_type": "code",
   "execution_count": 8,
   "id": "2a39d0ed-51fd-4041-aad8-a3e2381dc23d",
   "metadata": {},
   "outputs": [],
   "source": [
    "# Open a file named \"example.txt\" in write mode ('w') with UTF-8 encoding\n",
    "with open('B_eng_to_hin_input.txt', 'r', encoding='utf-8') as f:\n",
    "    # Write some text to the file\n",
    "    input = f.readlines()\n",
    "\n",
    "with open('B_eng_to_hin_output.txt', 'r', encoding='utf-8') as f:\n",
    "    # Write some text to the file\n",
    "    output = f.readlines()\n",
    "\n",
    "with open('test.en', 'r', encoding='utf-8') as f:\n",
    "    # Write some text to the file\n",
    "    f1 = f.readlines()\n",
    "\n",
    "with open('test.hi', 'r', encoding='utf-8') as f:\n",
    "    # Write some text to the file\n",
    "    f2 = f.readlines()"
   ]
  },
  {
   "cell_type": "code",
   "execution_count": 9,
   "id": "a1e93937-c415-472d-a13f-f51291fdec63",
   "metadata": {},
   "outputs": [],
   "source": [
    "ground_truth = fetch_ground_truth(f1,f2,input)"
   ]
  },
  {
   "cell_type": "code",
   "execution_count": 10,
   "id": "42ee7df5-75aa-4026-a2a3-48052e0b72bb",
   "metadata": {},
   "outputs": [],
   "source": [
    "# print(input[100])\n",
    "# print(output[100])\n",
    "# print(ground_truth[100])"
   ]
  },
  {
   "cell_type": "code",
   "execution_count": 11,
   "id": "059c40bd-ee44-4fb4-b838-a132442d9e2b",
   "metadata": {},
   "outputs": [
    {
     "name": "stdout",
     "output_type": "stream",
     "text": [
      "Sentence BLEU Score: 0.6948488300274981\n"
     ]
    }
   ],
   "source": [
    "score = bleu_score(ground_truth , output)\n",
    "print(\"Sentence BLEU Score:\", score)"
   ]
  },
  {
   "cell_type": "code",
   "execution_count": 12,
   "id": "c95a1cae-981e-4722-b071-b0741a35ad27",
   "metadata": {},
   "outputs": [
    {
     "name": "stdout",
     "output_type": "stream",
     "text": [
      "Rouge Score : \n",
      "rouge-1  :  {'r': 0.6312974415552479, 'p': 0.6236171066349142, 'f': 0.6240577378456516}\n",
      "rouge-2  :  {'r': 0.3986220928405689, 'p': 0.3949067197710193, 'f': 0.39462848175821374}\n",
      "rouge-l  :  {'r': 0.5960898710186854, 'p': 0.5884980608189196, 'f': 0.5891420496399068}\n"
     ]
    }
   ],
   "source": [
    "r_score = rouge_score(ground_truth , output)\n",
    "print(\"Rouge Score : \" )\n",
    "for i,j in r_score.items():\n",
    "    print(i,\" : \",j)\n",
    "    "
   ]
  },
  {
   "cell_type": "markdown",
   "id": "9e1a2df2-7bf3-4ed4-ad53-38154557b0c8",
   "metadata": {},
   "source": [
    "## Marathi to Hindi "
   ]
  },
  {
   "cell_type": "code",
   "execution_count": 13,
   "id": "936e0809-9b45-45ac-8989-5e68622882ea",
   "metadata": {},
   "outputs": [],
   "source": [
    "# Open a file named \"example.txt\" in write mode ('w') with UTF-8 encoding\n",
    "with open('B_mar_to_hin_input.txt', 'r', encoding='utf-8') as f:\n",
    "    # Write some text to the file\n",
    "    input = f.readlines()\n",
    "\n",
    "with open('B_mar_to_hin_output.txt', 'r', encoding='utf-8') as f:\n",
    "    # Write some text to the file\n",
    "    output = f.readlines()\n",
    "\n",
    "with open('test.mr', 'r', encoding='utf-8') as f:\n",
    "    # Write some text to the file\n",
    "    f1 = f.readlines()\n",
    "\n",
    "with open('test.hi', 'r', encoding='utf-8') as f:\n",
    "    # Write some text to the file\n",
    "    f2 = f.readlines()"
   ]
  },
  {
   "cell_type": "code",
   "execution_count": 14,
   "id": "8d7b432a-85e7-4f35-8283-1253504b0b58",
   "metadata": {},
   "outputs": [],
   "source": [
    "ground_truth = fetch_ground_truth(f1,f2,input)"
   ]
  },
  {
   "cell_type": "code",
   "execution_count": 15,
   "id": "0ef167e3-3fc7-41d4-af8c-bea8388d179e",
   "metadata": {},
   "outputs": [],
   "source": [
    "# print(input[100])\n",
    "# print(output[100])\n",
    "# print(ground_truth[100])"
   ]
  },
  {
   "cell_type": "code",
   "execution_count": 16,
   "id": "1860ec2a-886d-4876-9735-10fa8f776085",
   "metadata": {},
   "outputs": [
    {
     "name": "stdout",
     "output_type": "stream",
     "text": [
      "Sentence BLEU Score: 0.6117528744937303\n"
     ]
    }
   ],
   "source": [
    "score = bleu_score(ground_truth , output)\n",
    "print(\"Sentence BLEU Score:\", score)"
   ]
  },
  {
   "cell_type": "code",
   "execution_count": 17,
   "id": "da7eac7e-64a6-4af5-b347-e32217cd8738",
   "metadata": {},
   "outputs": [
    {
     "name": "stdout",
     "output_type": "stream",
     "text": [
      "Rouge Score : \n",
      "rouge-1  :  {'r': 0.5411127663945184, 'p': 0.5282191814299513, 'f': 0.5299542390222854}\n",
      "rouge-2  :  {'r': 0.2899827287436648, 'p': 0.28366610914281554, 'f': 0.2842049112678615}\n",
      "rouge-l  :  {'r': 0.5008516425345846, 'p': 0.48826049614286055, 'f': 0.49025361044416915}\n"
     ]
    }
   ],
   "source": [
    "r_score = rouge_score(ground_truth , output)\n",
    "print(\"Rouge Score : \" )\n",
    "for i,j in r_score.items():\n",
    "    print(i,\" : \",j)\n",
    "    "
   ]
  },
  {
   "cell_type": "markdown",
   "id": "ad628858-aec9-4d95-a932-da9d5cd48f93",
   "metadata": {},
   "source": [
    "## Hindi to Marathi"
   ]
  },
  {
   "cell_type": "code",
   "execution_count": 18,
   "id": "dad03a57-ecc7-471d-aa50-5b8c8f1c0864",
   "metadata": {},
   "outputs": [],
   "source": [
    "# Open a file named \"example.txt\" in write mode ('w') with UTF-8 encoding\n",
    "with open('B_hin_to_mar_input.txt', 'r', encoding='utf-8') as f:\n",
    "    # Write some text to the file\n",
    "    input = f.readlines()\n",
    "\n",
    "with open('B_hin_to_mar_output.txt', 'r', encoding='utf-8') as f:\n",
    "    # Write some text to the file\n",
    "    output = f.readlines()\n",
    "\n",
    "with open('test.hi', 'r', encoding='utf-8') as f:\n",
    "    # Write some text to the file\n",
    "    f1 = f.readlines()\n",
    "\n",
    "with open('test.mr', 'r', encoding='utf-8') as f:\n",
    "    # Write some text to the file\n",
    "    f2 = f.readlines()"
   ]
  },
  {
   "cell_type": "code",
   "execution_count": 19,
   "id": "75ab9495-7e07-4042-9d17-e4ce8b4a22da",
   "metadata": {},
   "outputs": [],
   "source": [
    "ground_truth = fetch_ground_truth(f1,f2,input)"
   ]
  },
  {
   "cell_type": "code",
   "execution_count": 20,
   "id": "79ece0eb-807d-4832-920e-4643e8968263",
   "metadata": {},
   "outputs": [],
   "source": [
    "# print(input[10])\n",
    "# print(output[10])\n",
    "# print(ground_truth[10])"
   ]
  },
  {
   "cell_type": "code",
   "execution_count": 21,
   "id": "242525e3-4849-4680-ba8e-adc504c33987",
   "metadata": {},
   "outputs": [
    {
     "name": "stdout",
     "output_type": "stream",
     "text": [
      "Sentence BLEU Score: 0.6102149802393331\n"
     ]
    }
   ],
   "source": [
    "score = bleu_score(ground_truth , output)\n",
    "print(\"Sentence BLEU Score:\", score)"
   ]
  },
  {
   "cell_type": "code",
   "execution_count": 22,
   "id": "08d74aae-6ed7-4a05-af3c-4a322cf0719d",
   "metadata": {},
   "outputs": [
    {
     "name": "stdout",
     "output_type": "stream",
     "text": [
      "Rouge Score : \n",
      "rouge-1  :  {'r': 0.4643810070623246, 'p': 0.46376841123297396, 'f': 0.46043185167056927}\n",
      "rouge-2  :  {'r': 0.21426397146689083, 'p': 0.21625876776118724, 'f': 0.21353291112366585}\n",
      "rouge-l  :  {'r': 0.43821989754506757, 'p': 0.43817663692225806, 'f': 0.43475286577210537}\n"
     ]
    }
   ],
   "source": [
    "r_score = rouge_score(ground_truth , output)\n",
    "print(\"Rouge Score : \" )\n",
    "for i,j in r_score.items():\n",
    "    print(i,\" : \",j)\n",
    "    "
   ]
  }
 ],
 "metadata": {
  "kernelspec": {
   "display_name": "Python 3 (ipykernel)",
   "language": "python",
   "name": "python3"
  },
  "language_info": {
   "codemirror_mode": {
    "name": "ipython",
    "version": 3
   },
   "file_extension": ".py",
   "mimetype": "text/x-python",
   "name": "python",
   "nbconvert_exporter": "python",
   "pygments_lexer": "ipython3",
   "version": "3.11.8"
  }
 },
 "nbformat": 4,
 "nbformat_minor": 5
}
