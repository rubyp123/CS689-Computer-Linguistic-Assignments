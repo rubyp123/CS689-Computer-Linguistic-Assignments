{
 "cells": [
  {
   "cell_type": "markdown",
   "id": "edbd7a0d-1025-44e5-9dd7-571c632aac60",
   "metadata": {},
   "source": [
    "# NLLB Model"
   ]
  },
  {
   "cell_type": "code",
   "execution_count": 181,
   "id": "1378ca14-29bd-445c-aed9-db441c464bc1",
   "metadata": {},
   "outputs": [],
   "source": [
    "import nltk\n",
    "from nltk.translate.bleu_score import corpus_bleu\n",
    "from rouge import Rouge\n"
   ]
  },
  {
   "cell_type": "code",
   "execution_count": 182,
   "id": "f795f02d-90ce-456f-811c-04ec94d6aed1",
   "metadata": {},
   "outputs": [],
   "source": [
    "\n",
    "def fetch_ground_truth(f1 , f2 , input):\n",
    "    ans = []\n",
    "    # print(len(f1))\n",
    "    # print(len(f2))\n",
    "    for i in range(len(input)):\n",
    "        for j in range(len(f1)):\n",
    "            if(f1[j]==input[i]):\n",
    "                ans.append(f2[j])\n",
    "    return ans\n",
    "          \n",
    "\n",
    "\n",
    "def bleu_score(ground_truth , output):\n",
    "    b_score = 0\n",
    "    b_score = corpus_bleu([[ref] for ref in ground_truth], output)\n",
    "    return b_score\n",
    "   \n",
    "\n",
    "\n",
    "def rouge_score(ground_truth , output):\n",
    "    rouge = Rouge()\n",
    "    scores = rouge.get_scores(ground_truth,output,avg=True)\n",
    "    return scores\n",
    "    \n",
    "    \n",
    "        "
   ]
  },
  {
   "cell_type": "markdown",
   "id": "cf164a80-1455-426c-9f5d-b26ddc3d9eac",
   "metadata": {},
   "source": [
    "### Hindi to English"
   ]
  },
  {
   "cell_type": "code",
   "execution_count": 183,
   "id": "2e734c38-2723-4833-b230-e4ae614b38fe",
   "metadata": {},
   "outputs": [],
   "source": [
    "# Open a file named \"example.txt\" in write mode ('w') with UTF-8 encoding\n",
    "with open('Hin_to_Eng_input.txt', 'r', encoding='utf-8') as f:\n",
    "    # Write some text to the file\n",
    "    input = f.readlines()\n",
    "\n",
    "with open('Hin_to_Eng_output.txt', 'r', encoding='utf-8') as f:\n",
    "    # Write some text to the file\n",
    "    output = f.readlines()\n",
    "\n",
    "with open('test.hi', 'r', encoding='utf-8') as f:\n",
    "    # Write some text to the file\n",
    "    f1 = f.readlines()\n",
    "\n",
    "with open('test.en', 'r', encoding='utf-8') as f:\n",
    "    # Write some text to the file\n",
    "    f2 = f.readlines()"
   ]
  },
  {
   "cell_type": "code",
   "execution_count": 184,
   "id": "1b40c61e-e51a-46cc-9ef8-24e13479e4c3",
   "metadata": {},
   "outputs": [],
   "source": [
    "ground_truth = fetch_ground_truth(f1,f2,input)"
   ]
  },
  {
   "cell_type": "code",
   "execution_count": 185,
   "id": "1272836f-04d0-493c-a2b5-2d772f825d2e",
   "metadata": {},
   "outputs": [],
   "source": [
    "# print(input)\n",
    "# print(output[10])\n",
    "# print(ground_truth[10])"
   ]
  },
  {
   "cell_type": "code",
   "execution_count": 186,
   "id": "14b7727d-434b-42b4-b417-7cb50f945a20",
   "metadata": {},
   "outputs": [
    {
     "name": "stdout",
     "output_type": "stream",
     "text": [
      "Sentence BLEU Score: 0.6664176211854691\n"
     ]
    }
   ],
   "source": [
    "score = bleu_score(ground_truth , output)\n",
    "print(\"Sentence BLEU Score:\", score)"
   ]
  },
  {
   "cell_type": "code",
   "execution_count": 187,
   "id": "464aeccd-f68f-4404-b5f6-b039d8b59a7a",
   "metadata": {},
   "outputs": [
    {
     "name": "stdout",
     "output_type": "stream",
     "text": [
      "Rouge Score : \n",
      "rouge-1  :  {'r': 0.629112395790558, 'p': 0.6115796173794302, 'f': 0.6156453078616192}\n",
      "rouge-2  :  {'r': 0.38028558514177707, 'p': 0.3722125093260254, 'f': 0.3729146138365017}\n",
      "rouge-l  :  {'r': 0.5966496128976457, 'p': 0.5808978454926305, 'f': 0.5843442732112495}\n"
     ]
    }
   ],
   "source": [
    "r_score = rouge_score(ground_truth , output)\n",
    "print(\"Rouge Score : \" )\n",
    "for i,j in r_score.items():\n",
    "    print(i,\" : \",j)\n",
    "    "
   ]
  },
  {
   "cell_type": "markdown",
   "id": "67a8c3a5-f90e-44b6-93af-7686098c6aee",
   "metadata": {},
   "source": [
    "### English to Hindi"
   ]
  },
  {
   "cell_type": "code",
   "execution_count": 188,
   "id": "b7e32cc7-1715-4248-ba55-ee1add46f150",
   "metadata": {},
   "outputs": [],
   "source": [
    "# Open a file named \"example.txt\" in write mode ('w') with UTF-8 encoding\n",
    "with open('Eng_to_Hin_input.txt', 'r', encoding='utf-8') as f:\n",
    "    # Write some text to the file\n",
    "    input = f.readlines()\n",
    "\n",
    "with open('Eng_to_Hin_output.txt', 'r', encoding='utf-8') as f:\n",
    "    # Write some text to the file\n",
    "    output = f.readlines()\n",
    "\n",
    "with open('test.en', 'r', encoding='utf-8') as f:\n",
    "    # Write some text to the file\n",
    "    f1 = f.readlines()\n",
    "\n",
    "with open('test.hi', 'r', encoding='utf-8') as f:\n",
    "    # Write some text to the file\n",
    "    f2 = f.readlines()"
   ]
  },
  {
   "cell_type": "code",
   "execution_count": 189,
   "id": "ebc4e4ff-8e64-4007-ba1d-9da547f94fb0",
   "metadata": {},
   "outputs": [],
   "source": [
    "ground_truth = fetch_ground_truth(f1,f2,input)"
   ]
  },
  {
   "cell_type": "code",
   "execution_count": 190,
   "id": "936aa9e2-fcbe-4554-9398-ee66670c8637",
   "metadata": {},
   "outputs": [],
   "source": [
    "# print(input[1])\n",
    "# print(output[1])\n",
    "# print(ground_truth[1])"
   ]
  },
  {
   "cell_type": "code",
   "execution_count": 191,
   "id": "90da4b3e-3b8d-4b83-9b14-bd3f6bca2f16",
   "metadata": {},
   "outputs": [
    {
     "name": "stdout",
     "output_type": "stream",
     "text": [
      "Sentence BLEU Score: 0.610053244943888\n"
     ]
    }
   ],
   "source": [
    "score = bleu_score(ground_truth , output)\n",
    "print(\"Sentence BLEU Score:\", score)"
   ]
  },
  {
   "cell_type": "code",
   "execution_count": 192,
   "id": "88560804-4781-41f8-ab6b-f752c4cebbcf",
   "metadata": {},
   "outputs": [
    {
     "name": "stdout",
     "output_type": "stream",
     "text": [
      "Rouge Score : \n",
      "rouge-1  :  {'r': 0.5920702184109471, 'p': 0.5558459075674409, 'f': 0.5682227027427238}\n",
      "rouge-2  :  {'r': 0.34583587610468425, 'p': 0.32485279527914884, 'f': 0.3317918936862638}\n",
      "rouge-l  :  {'r': 0.5508588166470766, 'p': 0.5171752867492838, 'f': 0.5287685374339159}\n"
     ]
    }
   ],
   "source": [
    "r_score = rouge_score(ground_truth , output)\n",
    "print(\"Rouge Score : \" )\n",
    "for i,j in r_score.items():\n",
    "    print(i,\" : \",j)"
   ]
  },
  {
   "cell_type": "markdown",
   "id": "388e285d-3fea-46cf-a14f-abbca776e9ce",
   "metadata": {},
   "source": [
    "### Marathi to Hindi "
   ]
  },
  {
   "cell_type": "code",
   "execution_count": 193,
   "id": "045fb412-e658-4b43-8e60-27bb21d556b9",
   "metadata": {},
   "outputs": [],
   "source": [
    "# Open a file named \"example.txt\" in write mode ('w') with UTF-8 encoding\n",
    "with open('Mr_to_Hin_input.txt', 'r', encoding='utf-8') as f:\n",
    "    # Write some text to the file\n",
    "    input = f.readlines()\n",
    "\n",
    "with open('Mr_to_Hin_output.txt', 'r', encoding='utf-8') as f:\n",
    "    # Write some text to the file\n",
    "    output = f.readlines()\n",
    "\n",
    "with open('test.mr', 'r', encoding='utf-8') as f:\n",
    "    # Write some text to the file\n",
    "    f1 = f.readlines()\n",
    "\n",
    "with open('test.hi', 'r', encoding='utf-8') as f:\n",
    "    # Write some text to the file\n",
    "    f2 = f.readlines()"
   ]
  },
  {
   "cell_type": "code",
   "execution_count": 194,
   "id": "eee87eae-0bc9-4099-9d85-5ce50561b29e",
   "metadata": {},
   "outputs": [],
   "source": [
    "ground_truth = fetch_ground_truth(f1,f2,input)"
   ]
  },
  {
   "cell_type": "code",
   "execution_count": 195,
   "id": "f91f65fb-af55-4150-b88e-a594fbfecdf3",
   "metadata": {},
   "outputs": [],
   "source": [
    "# print(input[1])\n",
    "# print(output[1])\n",
    "# print(ground_truth[1])"
   ]
  },
  {
   "cell_type": "code",
   "execution_count": 196,
   "id": "f4db5b07-b5f8-417d-bb85-60f6490f19a4",
   "metadata": {},
   "outputs": [
    {
     "name": "stdout",
     "output_type": "stream",
     "text": [
      "Sentence BLEU Score: 0.56066217477413\n"
     ]
    }
   ],
   "source": [
    "score = bleu_score(ground_truth , output)\n",
    "print(\"Sentence BLEU Score:\", score)"
   ]
  },
  {
   "cell_type": "code",
   "execution_count": 197,
   "id": "ddb9b8a9-b88d-4322-a2d5-493ed89773ae",
   "metadata": {},
   "outputs": [
    {
     "name": "stdout",
     "output_type": "stream",
     "text": [
      "Rouge Score : \n",
      "rouge-1  :  {'r': 0.5382534786355637, 'p': 0.49651588224924587, 'f': 0.5109430120271112}\n",
      "rouge-2  :  {'r': 0.28188165547543786, 'p': 0.2607617194297417, 'f': 0.2678061750911307}\n",
      "rouge-l  :  {'r': 0.49994147665166716, 'p': 0.46143442785486233, 'f': 0.47479278292823746}\n"
     ]
    }
   ],
   "source": [
    "r_score = rouge_score(ground_truth , output)\n",
    "print(\"Rouge Score : \" )\n",
    "for i,j in r_score.items():\n",
    "    print(i,\" : \",j)"
   ]
  },
  {
   "cell_type": "markdown",
   "id": "05b3800f-e7aa-4684-a745-1c4819097771",
   "metadata": {},
   "source": [
    "### Hindi to Marathi "
   ]
  },
  {
   "cell_type": "code",
   "execution_count": 198,
   "id": "92d7fb3e-15aa-4ee1-80fe-d3397163878b",
   "metadata": {},
   "outputs": [],
   "source": [
    "# Open a file named \"example.txt\" in write mode ('w') with UTF-8 encoding\n",
    "with open('Hin_to_Mr_input.txt', 'r', encoding='utf-8') as f:\n",
    "    # Write some text to the file\n",
    "    input = f.readlines()\n",
    "\n",
    "with open('Hin_to_Mr_output.txt', 'r', encoding='utf-8') as f:\n",
    "    # Write some text to the file\n",
    "    output = f.readlines()\n",
    "\n",
    "with open('test.hi', 'r', encoding='utf-8') as f:\n",
    "    # Write some text to the file\n",
    "    f1 = f.readlines()\n",
    "\n",
    "with open('test.mr', 'r', encoding='utf-8') as f:\n",
    "    # Write some text to the file\n",
    "    f2 = f.readlines()"
   ]
  },
  {
   "cell_type": "code",
   "execution_count": 199,
   "id": "5e3af8d3-6b9b-4fca-b769-0f2274d1f34e",
   "metadata": {},
   "outputs": [],
   "source": [
    "ground_truth = fetch_ground_truth(f1,f2,input)"
   ]
  },
  {
   "cell_type": "code",
   "execution_count": 200,
   "id": "adc39ad5-3dc0-4452-84d7-4c306f28474b",
   "metadata": {},
   "outputs": [],
   "source": [
    "# print(input[1])\n",
    "# print(output[1])\n",
    "# print(ground_truth[1])"
   ]
  },
  {
   "cell_type": "code",
   "execution_count": 201,
   "id": "d191cc08-0231-4813-b083-b97b5a1bf044",
   "metadata": {},
   "outputs": [
    {
     "name": "stdout",
     "output_type": "stream",
     "text": [
      "Sentence BLEU Score: 0.5461467974318344\n"
     ]
    }
   ],
   "source": [
    "score = bleu_score(ground_truth , output)\n",
    "print(\"Sentence BLEU Score:\", score)"
   ]
  },
  {
   "cell_type": "code",
   "execution_count": 202,
   "id": "6cebd1d9-6bb9-43f8-98bf-5fec59773388",
   "metadata": {},
   "outputs": [
    {
     "name": "stdout",
     "output_type": "stream",
     "text": [
      "Rouge Score : \n",
      "rouge-1  :  {'r': 0.4419535781555906, 'p': 0.41123943793303536, 'f': 0.42149200417237165}\n",
      "rouge-2  :  {'r': 0.19764071763290095, 'p': 0.1852154728263277, 'f': 0.18906147629141523}\n",
      "rouge-l  :  {'r': 0.41128942761315024, 'p': 0.3837294746802353, 'f': 0.3928164624761462}\n"
     ]
    }
   ],
   "source": [
    "r_score = rouge_score(ground_truth , output)\n",
    "print(\"Rouge Score : \" )\n",
    "for i,j in r_score.items():\n",
    "    print(i,\" : \",j)"
   ]
  }
 ],
 "metadata": {
  "kernelspec": {
   "display_name": "Python 3 (ipykernel)",
   "language": "python",
   "name": "python3"
  },
  "language_info": {
   "codemirror_mode": {
    "name": "ipython",
    "version": 3
   },
   "file_extension": ".py",
   "mimetype": "text/x-python",
   "name": "python",
   "nbconvert_exporter": "python",
   "pygments_lexer": "ipython3",
   "version": "3.11.8"
  }
 },
 "nbformat": 4,
 "nbformat_minor": 5
}
