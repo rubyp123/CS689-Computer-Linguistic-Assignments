{
 "cells": [
  {
   "cell_type": "markdown",
   "id": "765eda9b-5d6a-4388-a695-02f6bca6ea41",
   "metadata": {},
   "source": [
    "# indicBERT Model"
   ]
  },
  {
   "cell_type": "code",
   "execution_count": 1,
   "id": "ed0293d3-8bc5-42c2-a63b-ca8e15eae2b3",
   "metadata": {},
   "outputs": [
    {
     "name": "stdout",
     "output_type": "stream",
     "text": [
      "WARNING:tensorflow:From C:\\Users\\rubyp\\anaconda3\\Lib\\site-packages\\keras\\src\\losses.py:2976: The name tf.losses.sparse_softmax_cross_entropy is deprecated. Please use tf.compat.v1.losses.sparse_softmax_cross_entropy instead.\n",
      "\n"
     ]
    }
   ],
   "source": [
    "from transformers import AutoModelForTokenClassification, AutoConfig, AutoTokenizer, TrainingArguments, Trainer, DataCollatorForTokenClassification, EarlyStoppingCallback, IntervalStrategy\n",
    "import numpy as np\n",
    "\n",
    "tokenizer = AutoTokenizer.from_pretrained(\"tokenizer_indicBERT/kaggle/working/tokenizer_indicBERT\")\n",
    "model_fine_tuned = AutoModelForTokenClassification.from_pretrained(\"my_indicBERT/kaggle/working/my_indicBERT\")"
   ]
  },
  {
   "cell_type": "code",
   "execution_count": 5,
   "id": "58f8c230-2d20-4109-9392-91cf9c38c8c7",
   "metadata": {},
   "outputs": [],
   "source": [
    "with open('cs689_assignment.txt', 'r', encoding='utf-8') as file:\n",
    "    # Read the contents of the file\n",
    "    Inp1 = file.readlines()\n",
    "\n",
    "corpus=[]\n",
    "\n",
    "i=0\n",
    "while (i<(len(Inp1)-1)):\n",
    "    x = Inp1[i]\n",
    "    x=x[2:-1]\n",
    "    corpus.append(x)\n",
    "    i+=3\n"
   ]
  },
  {
   "cell_type": "code",
   "execution_count": 8,
   "id": "439e3045-3887-4121-8e63-ba124f5bbfc3",
   "metadata": {},
   "outputs": [
    {
     "name": "stdout",
     "output_type": "stream",
     "text": [
      "25\n"
     ]
    }
   ],
   "source": [
    "# print(corpus)\n",
    "print(len(corpus))"
   ]
  },
  {
   "cell_type": "code",
   "execution_count": 9,
   "id": "edf30a49-3c78-4d0e-97e4-b69aebd349f4",
   "metadata": {},
   "outputs": [],
   "source": [
    "import torch\n",
    "\n",
    "def get_ner(sentence):\n",
    "    tok_sentence = tokenizer(sentence, return_tensors='pt')\n",
    "\n",
    "    with torch.no_grad():\n",
    "        logits = model_fine_tuned(**tok_sentence).logits.argmax(-1)\n",
    "        predicted_tokens_classes = [\n",
    "            model_fine_tuned.config.id2label[t.item()] for t in logits[0]]\n",
    "\n",
    "        predicted_labels = []\n",
    "\n",
    "        previous_token_id = 0\n",
    "        word_ids = tok_sentence.word_ids()\n",
    "        for word_index in range(len(word_ids)):\n",
    "            if word_ids[word_index] == None:\n",
    "                previous_token_id = word_ids[word_index]\n",
    "            elif word_ids[word_index] == previous_token_id:\n",
    "                previous_token_id = word_ids[word_index]\n",
    "            else:\n",
    "                predicted_labels.append(predicted_tokens_classes[word_index])\n",
    "                previous_token_id = word_ids[word_index]\n",
    "\n",
    "        ner_output = []\n",
    "        l = min (len(sentence.split(' ')) , len(predicted_labels) )\n",
    "        for index in range(l):\n",
    "            ner_output.append(\n",
    "                (sentence.split(' ')[index], predicted_labels[index]))\n",
    "        return ner_output\n",
    "\n"
   ]
  },
  {
   "cell_type": "code",
   "execution_count": 10,
   "id": "f53e9820-8828-4a12-9b03-e231e3be60dc",
   "metadata": {},
   "outputs": [],
   "source": [
    "# str = \"दरअसल , जनवरी से चीन और नेपाल के सीमावर्ती क्षेत्रों को संचार सुविधा के लिए अब बैलून नेटवर्क सिस्टम की शुरूआत की जा रही है, जिसके साथ ही उत्तराखंड बैलून से नेटवर्क सुविधा देने वाला पहला राज्य बनेगा।  \"\n",
    "labeled_output = []\n",
    "output=[]\n",
    "for i in corpus:\n",
    "    l = get_ner(i)\n",
    "    labeled_output.append(l)\n",
    "    temp=[]\n",
    "    for j in l:\n",
    "        temp.append(j[1])\n",
    "    output.append(temp)\n",
    "\n"
   ]
  },
  {
   "cell_type": "code",
   "execution_count": 11,
   "id": "10cd066a-669e-4b13-8d42-2d2dda20ae70",
   "metadata": {},
   "outputs": [],
   "source": [
    "# tags_string = ' '.join(tags)\n",
    "\n",
    "# Open a file in write mode\n",
    "with open('tags_output_BERT.txt', 'w') as file:\n",
    "    for tags in output:\n",
    "        tags_string = ' '.join(tags)\n",
    "        file.write(tags_string + '\\n' )"
   ]
  },
  {
   "cell_type": "markdown",
   "id": "c6af5266-8995-4047-b45c-1db1c03f9799",
   "metadata": {},
   "source": [
    "# indicNER Model "
   ]
  },
  {
   "cell_type": "code",
   "execution_count": 19,
   "id": "21f89f94-3fa8-47e7-b82c-b1aab3edf27c",
   "metadata": {},
   "outputs": [],
   "source": [
    "from transformers import AutoModelForTokenClassification, AutoConfig, AutoTokenizer, TrainingArguments, Trainer, DataCollatorForTokenClassification, EarlyStoppingCallback, IntervalStrategy\n",
    "import numpy as np\n",
    "\n",
    "tokenizer_ner = AutoTokenizer.from_pretrained(\"tokenizer_indicNER/kaggle/working/tokenizer_indicNER\")\n",
    "model_fine_tuned_ner = AutoModelForTokenClassification.from_pretrained(\"my_indicNER/kaggle/working/my_indicNER\")"
   ]
  },
  {
   "cell_type": "code",
   "execution_count": 20,
   "id": "6b5a4c3f-9b6e-4a95-9588-ea583acfe7b2",
   "metadata": {},
   "outputs": [],
   "source": [
    "import torch\n",
    "\n",
    "def get_ner(sentence):\n",
    "    tok_sentence = tokenizer_ner(sentence, return_tensors='pt')\n",
    "\n",
    "    with torch.no_grad():\n",
    "        logits = model_fine_tuned_ner(**tok_sentence).logits.argmax(-1)\n",
    "        predicted_tokens_classes = [\n",
    "            model_fine_tuned_ner.config.id2label[t.item()] for t in logits[0]]\n",
    "\n",
    "        predicted_labels = []\n",
    "\n",
    "        previous_token_id = 0\n",
    "        word_ids = tok_sentence.word_ids()\n",
    "        for word_index in range(len(word_ids)):\n",
    "            if word_ids[word_index] == None:\n",
    "                previous_token_id = word_ids[word_index]\n",
    "            elif word_ids[word_index] == previous_token_id:\n",
    "                previous_token_id = word_ids[word_index]\n",
    "            else:\n",
    "                predicted_labels.append(predicted_tokens_classes[word_index])\n",
    "                previous_token_id = word_ids[word_index]\n",
    "\n",
    "        ner_output = []\n",
    "        l = min (len(sentence.split(' ')) , len(predicted_labels) )\n",
    "        for index in range(l):\n",
    "            ner_output.append(\n",
    "                (sentence.split(' ')[index], predicted_labels[index]))\n",
    "        return ner_output\n",
    "\n"
   ]
  },
  {
   "cell_type": "code",
   "execution_count": 21,
   "id": "d999464b-06e3-4329-9fef-64cd637a8666",
   "metadata": {},
   "outputs": [],
   "source": [
    "labeled_output_ner = []\n",
    "output_ner=[]\n",
    "for i in corpus:\n",
    "    l = get_ner(i)\n",
    "    labeled_output_ner.append(l)\n",
    "    temp=[]\n",
    "    for j in l:\n",
    "        temp.append(j[1])\n",
    "    output_ner.append(temp)\n"
   ]
  },
  {
   "cell_type": "code",
   "execution_count": 22,
   "id": "4edc6ae1-5e35-4e75-9696-32dedc248308",
   "metadata": {},
   "outputs": [],
   "source": [
    "# print(output_ner)"
   ]
  },
  {
   "cell_type": "code",
   "execution_count": 23,
   "id": "b4324916-fdca-4420-b8a4-0c1e7e2538cf",
   "metadata": {},
   "outputs": [],
   "source": [
    "# tags_string = ' '.join(tags)\n",
    "\n",
    "# Open a file in write mode\n",
    "with open('tags_output_NER.txt', 'w') as file:\n",
    "    for tags in output_ner:\n",
    "        tags_string = ' '.join(tags)\n",
    "        file.write(tags_string + '\\n' )"
   ]
  },
  {
   "cell_type": "code",
   "execution_count": null,
   "id": "abef11a5-7e4a-451f-893a-b5ab2e9d1769",
   "metadata": {},
   "outputs": [],
   "source": []
  }
 ],
 "metadata": {
  "kernelspec": {
   "display_name": "Python 3 (ipykernel)",
   "language": "python",
   "name": "python3"
  },
  "language_info": {
   "codemirror_mode": {
    "name": "ipython",
    "version": 3
   },
   "file_extension": ".py",
   "mimetype": "text/x-python",
   "name": "python",
   "nbconvert_exporter": "python",
   "pygments_lexer": "ipython3",
   "version": "3.11.8"
  }
 },
 "nbformat": 4,
 "nbformat_minor": 5
}
